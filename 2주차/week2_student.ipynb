{
 "cells": [
  {
   "cell_type": "markdown",
   "source": [
    "# 연습문제\n",
    "\n",
    "\n",
    "## numpy\n",
    "\n",
    "python에서 array등을 다루는 수학/과학 컴퓨팅을 하기 위한 패키지\n",
    "\n",
    "## matplotlib\n",
    "\n",
    "python에서 matlab과 유사한 그래프 표시를 가능하게 하는 패키지연습문제"
   ],
   "metadata": {}
  },
  {
   "cell_type": "code",
   "execution_count": 1,
   "source": [
    "# Cell 클릭 후 Shift+Enter로 실행 (Comment는 #으로 시작)\r\n",
    "\r\n",
    "# Install necessary packages\r\n",
    "!pip install numpy\r\n",
    "!pip install pandas\r\n",
    "!pip install matplotlib\r\n",
    "!pip install seaborn"
   ],
   "outputs": [
    {
     "output_type": "stream",
     "name": "stdout",
     "text": [
      "Requirement already satisfied: numpy in /Users/apple/anaconda3/lib/python3.8/site-packages (1.18.5)\n",
      "Requirement already satisfied: pandas in /Users/apple/anaconda3/lib/python3.8/site-packages (1.0.5)\n",
      "Requirement already satisfied: python-dateutil>=2.6.1 in /Users/apple/anaconda3/lib/python3.8/site-packages (from pandas) (2.8.1)\n",
      "Requirement already satisfied: pytz>=2017.2 in /Users/apple/anaconda3/lib/python3.8/site-packages (from pandas) (2020.1)\n",
      "Requirement already satisfied: numpy>=1.13.3 in /Users/apple/anaconda3/lib/python3.8/site-packages (from pandas) (1.18.5)\n",
      "Requirement already satisfied: six>=1.5 in /Users/apple/anaconda3/lib/python3.8/site-packages (from python-dateutil>=2.6.1->pandas) (1.15.0)\n",
      "Requirement already satisfied: matplotlib in /Users/apple/anaconda3/lib/python3.8/site-packages (3.2.2)\n",
      "Requirement already satisfied: kiwisolver>=1.0.1 in /Users/apple/anaconda3/lib/python3.8/site-packages (from matplotlib) (1.2.0)\n",
      "Requirement already satisfied: cycler>=0.10 in /Users/apple/anaconda3/lib/python3.8/site-packages (from matplotlib) (0.10.0)\n",
      "Requirement already satisfied: pyparsing!=2.0.4,!=2.1.2,!=2.1.6,>=2.0.1 in /Users/apple/anaconda3/lib/python3.8/site-packages (from matplotlib) (2.4.7)\n",
      "Requirement already satisfied: numpy>=1.11 in /Users/apple/anaconda3/lib/python3.8/site-packages (from matplotlib) (1.18.5)\n",
      "Requirement already satisfied: python-dateutil>=2.1 in /Users/apple/anaconda3/lib/python3.8/site-packages (from matplotlib) (2.8.1)\n",
      "Requirement already satisfied: six in /Users/apple/anaconda3/lib/python3.8/site-packages (from cycler>=0.10->matplotlib) (1.15.0)\n",
      "Requirement already satisfied: seaborn in /Users/apple/anaconda3/lib/python3.8/site-packages (0.10.1)\n",
      "Requirement already satisfied: matplotlib>=2.1.2 in /Users/apple/anaconda3/lib/python3.8/site-packages (from seaborn) (3.2.2)\n",
      "Requirement already satisfied: scipy>=1.0.1 in /Users/apple/anaconda3/lib/python3.8/site-packages (from seaborn) (1.5.0)\n",
      "Requirement already satisfied: pandas>=0.22.0 in /Users/apple/anaconda3/lib/python3.8/site-packages (from seaborn) (1.0.5)\n",
      "Requirement already satisfied: numpy>=1.13.3 in /Users/apple/anaconda3/lib/python3.8/site-packages (from seaborn) (1.18.5)\n",
      "Requirement already satisfied: python-dateutil>=2.1 in /Users/apple/anaconda3/lib/python3.8/site-packages (from matplotlib>=2.1.2->seaborn) (2.8.1)\n",
      "Requirement already satisfied: pyparsing!=2.0.4,!=2.1.2,!=2.1.6,>=2.0.1 in /Users/apple/anaconda3/lib/python3.8/site-packages (from matplotlib>=2.1.2->seaborn) (2.4.7)\n",
      "Requirement already satisfied: cycler>=0.10 in /Users/apple/anaconda3/lib/python3.8/site-packages (from matplotlib>=2.1.2->seaborn) (0.10.0)\n",
      "Requirement already satisfied: kiwisolver>=1.0.1 in /Users/apple/anaconda3/lib/python3.8/site-packages (from matplotlib>=2.1.2->seaborn) (1.2.0)\n",
      "Requirement already satisfied: pytz>=2017.2 in /Users/apple/anaconda3/lib/python3.8/site-packages (from pandas>=0.22.0->seaborn) (2020.1)\n",
      "Requirement already satisfied: six>=1.5 in /Users/apple/anaconda3/lib/python3.8/site-packages (from python-dateutil>=2.1->matplotlib>=2.1.2->seaborn) (1.15.0)\n"
     ]
    }
   ],
   "metadata": {}
  },
  {
   "cell_type": "markdown",
   "source": [
    "## numpy\n",
    "(본 cell은 markdown 형식으로, 더블클릭/Enter로 들어가고 Shift+Enter로 나갈 수 있다. 주석 용으로 사용.)  \n",
    "\n",
    "python에서 과학 컴퓨팅을 하기 위해 사용하는 패키지로 python 라이브러리로 Import 하여 사용."
   ],
   "metadata": {}
  },
  {
   "cell_type": "code",
   "execution_count": null,
   "source": [
    "# 패키지 사용을 위한 약자 지정\r\n",
    "\r\n",
    "import numpy as np\r\n",
    "import matplotlib.pyplot as plt\r\n",
    "\r\n",
    "%matplotlib inline"
   ],
   "outputs": [],
   "metadata": {}
  },
  {
   "cell_type": "code",
   "execution_count": null,
   "source": [
    "# a, b array 선언 및 초기화\r\n",
    "\r\n",
    "a = np.array((1, 2))\r\n",
    "b = np.array((2, 3))\r\n",
    "\r\n",
    "print('a: ', a)\r\n",
    "print('b: ', b)"
   ],
   "outputs": [],
   "metadata": {}
  },
  {
   "cell_type": "code",
   "execution_count": null,
   "source": [
    "a + b "
   ],
   "outputs": [],
   "metadata": {}
  },
  {
   "cell_type": "code",
   "execution_count": null,
   "source": [
    "a - b"
   ],
   "outputs": [],
   "metadata": {}
  },
  {
   "cell_type": "code",
   "execution_count": null,
   "source": [
    "a * b"
   ],
   "outputs": [],
   "metadata": {}
  },
  {
   "cell_type": "code",
   "execution_count": null,
   "source": [
    "np.dot(a, b)"
   ],
   "outputs": [],
   "metadata": {}
  },
  {
   "cell_type": "code",
   "execution_count": null,
   "source": [
    "a.dot(b)"
   ],
   "outputs": [],
   "metadata": {}
  },
  {
   "cell_type": "markdown",
   "source": [
    "### 함수"
   ],
   "metadata": {}
  },
  {
   "cell_type": "code",
   "execution_count": null,
   "source": [
    "def test_function(sentence, number=2):\r\n",
    "    sentence += sentence + str(number)\r\n",
    "    return sentence"
   ],
   "outputs": [],
   "metadata": {}
  },
  {
   "cell_type": "code",
   "execution_count": null,
   "source": [
    "print(test_function('함수동작 원리 확인: '))"
   ],
   "outputs": [],
   "metadata": {}
  },
  {
   "cell_type": "code",
   "execution_count": null,
   "source": [
    "print(test_function('함수동작 원리 확인: ', 10))"
   ],
   "outputs": [],
   "metadata": {}
  },
  {
   "cell_type": "code",
   "execution_count": null,
   "source": [
    "print(test_function('함수동작 원리 확인: ', number=10))"
   ],
   "outputs": [],
   "metadata": {}
  },
  {
   "cell_type": "markdown",
   "source": [
    "### For 문"
   ],
   "metadata": {}
  },
  {
   "cell_type": "code",
   "execution_count": 1,
   "source": [
    "for i in range(10):\r\n",
    "    print(i)"
   ],
   "outputs": [
    {
     "output_type": "stream",
     "name": "stdout",
     "text": [
      "0\n",
      "1\n",
      "2\n",
      "3\n",
      "4\n",
      "5\n",
      "6\n",
      "7\n",
      "8\n",
      "9\n"
     ]
    }
   ],
   "metadata": {}
  },
  {
   "cell_type": "code",
   "execution_count": 5,
   "source": [
    "print(range(10))\r\n",
    "print(list(range(10)))"
   ],
   "outputs": [
    {
     "output_type": "stream",
     "name": "stdout",
     "text": [
      "range(0, 10)\n",
      "[0, 1, 2, 3, 4, 5, 6, 7, 8, 9]\n"
     ]
    }
   ],
   "metadata": {}
  },
  {
   "cell_type": "code",
   "execution_count": 2,
   "source": [
    "for i in [0, 1, 2, 3, 4, 5]:\r\n",
    "    print(i)"
   ],
   "outputs": [
    {
     "output_type": "stream",
     "name": "stdout",
     "text": [
      "0\n",
      "1\n",
      "2\n",
      "3\n",
      "4\n",
      "5\n"
     ]
    }
   ],
   "metadata": {}
  },
  {
   "cell_type": "code",
   "execution_count": 3,
   "source": [
    "for i in ['This', 'is', 'example', 1, 2, ['test', 'list']]:\r\n",
    "    print(i)"
   ],
   "outputs": [
    {
     "output_type": "stream",
     "name": "stdout",
     "text": [
      "This\n",
      "is\n",
      "example\n",
      "1\n",
      "2\n",
      "['test', 'list']\n"
     ]
    }
   ],
   "metadata": {}
  },
  {
   "cell_type": "markdown",
   "source": [
    "## matplotlib\r\n",
    "\r\n",
    "matplotlib 은 python 에서 matlab 과 유사한 그래프 표시를 가능하게 하는 라이브러리이다.\r\n",
    "\r\n",
    "\r\n",
    "### np.linspace\r\n",
    "\r\n",
    "균등한 간격의 데이터를 뽑아줌\r\n",
    "\r\n",
    "https://numpy.org/doc/stable/reference/generated/numpy.linspace.html\r\n",
    "\r\n",
    "\r\n",
    "\r\n",
    "### plt.scatter\r\n",
    "\r\n",
    "데이터를 visualizing 해줌\r\n",
    "\r\n",
    "https://matplotlib.org/stable/api/_as_gen/matplotlib.pyplot.scatter.html"
   ],
   "metadata": {}
  },
  {
   "cell_type": "code",
   "execution_count": null,
   "source": [
    "x = np.linspace(0, 10, 30)\r\n",
    "y = np.sin(x)\r\n",
    "plt.scatter(x, y, color='red')"
   ],
   "outputs": [],
   "metadata": {}
  },
  {
   "cell_type": "markdown",
   "source": [
    "# 실습"
   ],
   "metadata": {}
  },
  {
   "cell_type": "code",
   "execution_count": null,
   "source": [
    "import numpy as np \r\n",
    "import pandas as pd\r\n",
    "import matplotlib.pyplot as plt\r\n",
    "import seaborn as sns\r\n",
    "plt.style.use('fivethirtyeight')\r\n",
    "import warnings\r\n",
    "warnings.filterwarnings('ignore')\r\n",
    "%matplotlib inline"
   ],
   "outputs": [],
   "metadata": {}
  },
  {
   "cell_type": "code",
   "execution_count": null,
   "source": [
    "data = pd.read_csv('./titanic/train.csv')"
   ],
   "outputs": [],
   "metadata": {}
  },
  {
   "cell_type": "code",
   "execution_count": null,
   "source": [
    "print(len(data))"
   ],
   "outputs": [],
   "metadata": {}
  },
  {
   "cell_type": "code",
   "execution_count": null,
   "source": [
    "data.head()"
   ],
   "outputs": [],
   "metadata": {}
  },
  {
   "cell_type": "code",
   "execution_count": null,
   "source": [
    "data.tail()"
   ],
   "outputs": [],
   "metadata": {}
  },
  {
   "cell_type": "code",
   "execution_count": null,
   "source": [
    "data.isnull()"
   ],
   "outputs": [],
   "metadata": {}
  },
  {
   "cell_type": "code",
   "execution_count": null,
   "source": [
    "data.isnull().sum()"
   ],
   "outputs": [],
   "metadata": {}
  },
  {
   "cell_type": "code",
   "execution_count": null,
   "source": [
    "f,ax=plt.subplots(1,2,figsize=(18,8))\r\n",
    "data['Survived'].value_counts().plot.pie(explode=[0,0.1],autopct='%1.1f%%',ax=ax[0],shadow=True)\r\n",
    "ax[0].set_title('Survived')\r\n",
    "ax[0].set_ylabel('')\r\n",
    "sns.countplot('Survived',data=data,ax=ax[1])\r\n",
    "ax[1].set_title('Survived')\r\n",
    "plt.show()"
   ],
   "outputs": [],
   "metadata": {}
  },
  {
   "cell_type": "code",
   "execution_count": null,
   "source": [
    "data.groupby(['Sex','Survived'])['Survived'].count()"
   ],
   "outputs": [],
   "metadata": {}
  },
  {
   "cell_type": "code",
   "execution_count": null,
   "source": [
    "f,ax=plt.subplots(1,2,figsize=(18,8))\r\n",
    "data[['Sex','Survived']].groupby(['Sex']).mean().plot.bar(ax=ax[0])\r\n",
    "ax[0].set_title('Survived vs Sex')\r\n",
    "sns.countplot('Sex',hue='Survived',data=data,ax=ax[1])\r\n",
    "ax[1].set_title('Sex:Survived vs Dead')\r\n",
    "plt.show()\r\n"
   ],
   "outputs": [],
   "metadata": {}
  },
  {
   "cell_type": "code",
   "execution_count": null,
   "source": [
    "df = data.corr('pearson')\r\n",
    "df"
   ],
   "outputs": [],
   "metadata": {}
  },
  {
   "cell_type": "code",
   "execution_count": null,
   "source": [
    "sns.clustermap(df, \r\n",
    "               annot = True,      # 실제 값 화면에 나타내기\r\n",
    "               cmap = 'RdYlBu_r',  # Red, Yellow, Blue 색상으로 표시\r\n",
    "               vmin = -1, vmax = 1, #컬러차트 -1 ~ 1 범위로 표시\r\n",
    "              )\r\n"
   ],
   "outputs": [],
   "metadata": {}
  },
  {
   "cell_type": "markdown",
   "source": [
    "# 실습1: Pearson Correlation 함수를 만드시오.\n",
    "\n",
    "이번 실습에서는 dataframe 의 내장 함수 ```corr('pearson')``` 을 함수로 구현합니다."
   ],
   "metadata": {}
  },
  {
   "cell_type": "markdown",
   "source": [
    "### TODO 1"
   ],
   "metadata": {}
  },
  {
   "cell_type": "code",
   "execution_count": null,
   "source": [
    "def pearsonCorrelation(data, source_column, target_column):\r\n",
    "    result = 0.\r\n",
    "    # TODO\r\n",
    "       \r\n",
    "    \r\n",
    "    avg_s = np.mean(data[source_column])\r\n",
    "    avg_t = np.mean(data[target_column])\r\n",
    "    \r\n",
    "    std_s = np.std(data[source_column])\r\n",
    "    std_t = np.std(data[target_column])\r\n",
    "    \r\n",
    "    sum = 0.\r\n",
    "    list_s = []\r\n",
    "    list_t = []\r\n",
    "    \r\n",
    "    \r\n",
    "    for i in data[source_column]:\r\n",
    "        list_s.append(i - avg_s)\r\n",
    "        \r\n",
    "    for i in data[target_column]:\r\n",
    "        list_t.append(i - avg_t)\r\n",
    "        \r\n",
    "    for i in range(len(data[source_column])):\r\n",
    "        sum += list_s[i] * list_t[i]\r\n",
    "        \r\n",
    "    \r\n",
    "    sum_s = 0\r\n",
    "    for i in range(len(list_s)):\r\n",
    "        sum_s += (list_s[i])**2\r\n",
    "        \r\n",
    "    sum_t = 0  \r\n",
    "    for i in range(len(list_t)):\r\n",
    "        sum_t += (list_t[i])**2\r\n",
    "            \r\n",
    "    \r\n",
    "    result = sum / ((sum_s)**(1/2) * (sum_t)**(1/2))\r\n",
    "\r\n",
    "    \r\n",
    "    return result"
   ],
   "outputs": [],
   "metadata": {}
  },
  {
   "cell_type": "markdown",
   "source": [
    "## 작성한 함수가 정상적으로 작동하는지 확인한다."
   ],
   "metadata": {}
  },
  {
   "cell_type": "code",
   "execution_count": null,
   "source": [
    "# DO NOT CHANGE\r\n",
    "results = []\r\n",
    "column_names = []"
   ],
   "outputs": [],
   "metadata": {}
  },
  {
   "cell_type": "code",
   "execution_count": null,
   "source": [
    "# DO NOT CHANGE\r\n",
    "for source_column in data.columns:\r\n",
    "    source_results = []\r\n",
    "    for target_column in data.columns:\r\n",
    "        source_results.append(pearsonCorrelation(data, source_column, target_column))\r\n",
    "    results.append(source_results)\r\n",
    "    column_names.append(source_column)"
   ],
   "outputs": [],
   "metadata": {}
  },
  {
   "cell_type": "markdown",
   "source": [
    "# 실습2: Improved Correlation Heatmap\n",
    "\n",
    "\n",
    "위의 결과에서 pearson correlation 을 활용할 수 없는 column 이 있음을 확인하였다.\n",
    "```Name, Ticket, Cabin column``` 을 삭제하고 실험을 다시 진행한다."
   ],
   "metadata": {}
  },
  {
   "cell_type": "code",
   "execution_count": null,
   "source": [
    "# DO NOT CHANGE\r\n",
    "dropped_data = data.drop(columns=['Name', 'Ticket', 'Cabin'])\r\n",
    "dropped_data"
   ],
   "outputs": [],
   "metadata": {}
  },
  {
   "cell_type": "markdown",
   "source": [
    "## 설명\n",
    "```Pearson Correlation``` 을 이용하기 위해선 ```Nan```, ```String``` 데이터가 있으면 안된다. 적절한 조치를 취하여 해당 문제를 해결한다."
   ],
   "metadata": {}
  },
  {
   "cell_type": "code",
   "execution_count": null,
   "source": [
    "# DO NOT CHANGE\r\n",
    "dropped_data.isnull().sum()"
   ],
   "outputs": [],
   "metadata": {}
  },
  {
   "cell_type": "markdown",
   "source": [
    "### TODO 2\n",
    "\n",
    "표시되어야할 Column 은 다음과 같습니다.\n",
    "\n",
    "```['PassengerId', 'Survived', 'Pclass', 'Sex', 'Age', 'SibSp', 'Parch', 'Fare', 'Embarked']```"
   ],
   "metadata": {}
  },
  {
   "cell_type": "code",
   "execution_count": null,
   "source": [
    "# TODO\r\n",
    "# 아래에 데이터 수정을 통해 pearson correlation 함수가 정상적으로 작동하게 하라.\r\n",
    "\r\n",
    "index = 0\r\n",
    "\r\n",
    "#male = 1, female = 2\r\n",
    "for i in dropped_data[\"Sex\"]:\r\n",
    "    if i == \"male\":\r\n",
    "        dropped_data.loc[index, \"Sex\"] = 0\r\n",
    "    elif i == \"female\":\r\n",
    "        dropped_data.loc[index, \"Sex\"] = 1\r\n",
    "\r\n",
    "    index += 1\r\n",
    "    \r\n",
    "    \r\n",
    "index = 0\r\n",
    "    \r\n",
    "#age = nan인거 0으로\r\n",
    "for i in dropped_data[\"Age\"]:\r\n",
    "    if np.isnan(i) == True:\r\n",
    "        dropped_data.loc[index, \"Age\"] = 0\r\n",
    "    index += 1\r\n",
    "    \r\n",
    "index = 0\r\n",
    "\r\n",
    "\r\n",
    "#C = 1, Q = 2, S = 3, nan = 0\r\n",
    "for i in dropped_data[\"Embarked\"]:\r\n",
    "    if i == \"C\":\r\n",
    "        dropped_data.loc[index, \"Embarked\"] = 1\r\n",
    "    elif i == \"Q\":\r\n",
    "        dropped_data.loc[index, \"Embarked\"] = 2\r\n",
    "    elif i == \"S\":\r\n",
    "        dropped_data.loc[index, \"Embarked\"] = 3\r\n",
    "    elif np.isnan(i) == True:\r\n",
    "        dropped_data.loc[index, \"Embarked\"] = 0\r\n",
    "        \r\n",
    "    index += 1\r\n",
    "    \r\n",
    "index = 0\r\n",
    "\r\n",
    "avg = np.mean(dropped_data[\"Embarked\"])\r\n",
    "\r\n",
    "for i in dropped_data[\"Embarked\"]:\r\n",
    "    if i == 0:\r\n",
    "        dropped_data.loc[index, \"Embarked\"] = avg\r\n",
    "\r\n",
    "\r\n",
    "# Do NOT CHANGE\r\n",
    "dropped_data"
   ],
   "outputs": [],
   "metadata": {}
  },
  {
   "cell_type": "code",
   "execution_count": null,
   "source": [
    "# DO NOT CHANGE\r\n",
    "results = []\r\n",
    "column_names = []\r\n",
    "\r\n",
    "for source_column in dropped_data.columns:\r\n",
    "    source_results = []\r\n",
    "    for target_column in dropped_data.columns:\r\n",
    "        source_results.append(pearsonCorrelation(dropped_data, source_column, target_column))\r\n",
    "    results.append(source_results)\r\n",
    "    column_names.append(source_column)"
   ],
   "outputs": [],
   "metadata": {}
  },
  {
   "cell_type": "markdown",
   "source": [
    "## ```results``` 를 ```pd.DataFrame``` 으로 바꾸고 Heatmap 으로 바꾸시오."
   ],
   "metadata": {}
  },
  {
   "cell_type": "markdown",
   "source": [
    "### TODO 3\n",
    "\n",
    "Pearson Correlation Coefficient 를 Visualizing 하시오."
   ],
   "metadata": {}
  },
  {
   "cell_type": "code",
   "execution_count": null,
   "source": [
    "improved_data = pd.DataFrame(results, columns = column_names, index = column_names)\r\n",
    "\r\n",
    "\r\n",
    "improved_data"
   ],
   "outputs": [],
   "metadata": {}
  },
  {
   "cell_type": "code",
   "execution_count": null,
   "source": [
    "sns.clustermap(improved_data, \r\n",
    "               annot = True,      # 실제 값 화면에 나타내기\r\n",
    "               cmap = 'RdYlBu_r',  # Red, Yellow, Blue 색상으로 표시\r\n",
    "               vmin = -1, vmax = 1, #컬러차트 -1 ~ 1 범위로 표시\r\n",
    "              )"
   ],
   "outputs": [],
   "metadata": {}
  },
  {
   "cell_type": "markdown",
   "source": [
    "# 실습4\n",
    "\n",
    "지난 실습에서는 데이터의 column 간의 correlation 을 확인하여 survived 에 영향을 크게 주는 column 을 확인하였다. \n",
    "\n",
    "이 정보를 바탕으로 데이터를 분석하여 어떠한 상황에서 생존률을 예측할 수 있는지를 분석내용과 함께 4가지를 제시하라.\n",
    "\n",
    "### 주의사항\n",
    "1. 머신러닝은 사용하지 않는다.\n",
    "2. 그림, 그래프, 도표로 표시한다.\n",
    "3. 해당 과제 내용을 바탕으로 Week 3 가 진행된다.\n",
    "4. 타당한 수치로 생존율과 연관이 있어야 한다."
   ],
   "metadata": {}
  },
  {
   "cell_type": "markdown",
   "source": [
    "### 예시\n",
    "아래의 예시들은 나이와 생존의 관계이다."
   ],
   "metadata": {}
  },
  {
   "cell_type": "markdown",
   "source": [
    "16세 이하의 생존율은 55% 로 다른 나이에 비해 생존율이 높다."
   ],
   "metadata": {}
  },
  {
   "cell_type": "code",
   "execution_count": null,
   "source": [
    "# 16세 이하의 생존률\r\n",
    "dropped_data[(data['Age'] <= 16) & (data['Survived'] == 1)]['Survived'].count() / dropped_data[data['Age'] <= 16]['Survived'].count()\r\n",
    "data1 = dropped_data[(data['Age'] <= 16)]\r\n",
    "\r\n",
    "f,ax=plt.subplots(1, 1,figsize=(9,8))\r\n",
    "sns.countplot('Survived',data=data1,ax=ax)\r\n",
    "ax.set_title('Age <=16 Survived')\r\n",
    "plt.show()\r\n",
    "print(f\"16세 이하의 생존율 {dropped_data[(data['Age'] <= 16) & (data['Survived'] == 1)]['Survived'].count() / dropped_data[data['Age'] <= 16]['Survived'].count() * 100}%\")"
   ],
   "outputs": [],
   "metadata": {}
  },
  {
   "cell_type": "code",
   "execution_count": null,
   "source": [
    "# 16 ~ 32세의 생존률\r\n",
    "dropped_data[(data['Age'] > 16) & (data['Age'] <= 32) & (data['Survived'] == 1)]['Survived'].count() / dropped_data[(data['Age'] > 16) & (data['Age'] <= 32)]['Survived'].count()\r\n"
   ],
   "outputs": [],
   "metadata": {}
  },
  {
   "cell_type": "code",
   "execution_count": null,
   "source": [
    "# 32 ~ 48세의 생존률\r\n",
    "dropped_data[(data['Age'] > 32) & (data['Age'] <= 48) & (data['Survived'] == 1)]['Survived'].count() / dropped_data[(data['Age'] > 16) & (data['Age'] <= 32)]['Survived'].count()\r\n",
    "\r\n"
   ],
   "outputs": [],
   "metadata": {}
  },
  {
   "cell_type": "code",
   "execution_count": null,
   "source": [
    "# 48 ~ 64세의 생존률\r\n",
    "dropped_data[(data['Age'] > 48) & (data['Age'] <= 64) & (data['Survived'] == 1)]['Survived'].count() / dropped_data[(data['Age'] > 48) & (data['Age'] <= 64)]['Survived'].count()\r\n",
    "\r\n"
   ],
   "outputs": [],
   "metadata": {}
  },
  {
   "cell_type": "code",
   "execution_count": null,
   "source": [
    "# 64세 이상의 생존률\r\n",
    "dropped_data[(data['Age'] > 64) & (data['Survived'] == 1)]['Survived'].count() / dropped_data[(data['Age'] > 64)]['Survived'].count() \r\n",
    "\r\n",
    "\r\n",
    "\r\n"
   ],
   "outputs": [],
   "metadata": {}
  },
  {
   "cell_type": "markdown",
   "source": [
    "# 분석 1"
   ],
   "metadata": {}
  },
  {
   "cell_type": "code",
   "execution_count": null,
   "source": [
    "dropped_data[(data['Pclass'] <= 2) & (data['Survived'] == 1)]['Survived'].count() / dropped_data[data['Pclass'] <= 2]['Survived'].count()\r\n",
    "data1 = dropped_data[(data['Pclass'] <= 2)]\r\n",
    "\r\n",
    "f,ax=plt.subplots(1, 1,figsize=(9,8))\r\n",
    "sns.countplot('Survived',data=data1,ax=ax)\r\n",
    "ax.set_title('Pclass <= 2 Survived')\r\n",
    "plt.show()\r\n",
    "print(f\"2등석 이하의 생존율 {dropped_data[(data['Pclass'] <= 2) & (data['Survived'] == 1)]['Survived'].count() / dropped_data[data['Pclass'] <= 2]['Survived'].count() * 100}%\")"
   ],
   "outputs": [],
   "metadata": {}
  },
  {
   "cell_type": "markdown",
   "source": [
    "# 분석 2"
   ],
   "metadata": {}
  },
  {
   "cell_type": "code",
   "execution_count": null,
   "source": [
    "dropped_data[(data['Embarked'] == 'C') & (data['Survived'] == 1)]['Survived'].count() / dropped_data[data['Embarked'] == 'C']['Survived'].count()\r\n",
    "data1 = dropped_data[(data['Embarked'] == 'C')]\r\n",
    "\r\n",
    "f,ax=plt.subplots(1, 1,figsize=(9,8))\r\n",
    "sns.countplot('Survived',data=data1,ax=ax)\r\n",
    "ax.set_title('Embarked == \\'C\\' Survived')\r\n",
    "plt.show()\r\n",
    "print(f\"탑승지(C)의 생존율 {dropped_data[(data['Embarked'] == 'C') & (data['Survived'] == 1)]['Survived'].count() / dropped_data[data['Embarked'] == 'C']['Survived'].count() * 100}%\")"
   ],
   "outputs": [],
   "metadata": {}
  },
  {
   "cell_type": "markdown",
   "source": [
    "# 분석 3"
   ],
   "metadata": {}
  },
  {
   "cell_type": "code",
   "execution_count": null,
   "source": [
    "dropped_data[(data['Parch'] != 0) & (data['Survived'] == 1)]['Survived'].count() / dropped_data[data['Parch'] != 0]['Survived'].count()\r\n",
    "data1 = dropped_data[(data['Parch'] != 0)]\r\n",
    "\r\n",
    "f,ax=plt.subplots(1, 1,figsize=(9,8))\r\n",
    "sns.countplot('Survived',data=data1,ax=ax)\r\n",
    "ax.set_title('Parch != 0 Survived')\r\n",
    "plt.show()\r\n",
    "print(f\"동승자가 1명이라도 있는 사람들의 생존율 {dropped_data[(data['Parch'] != 0) & (data['Survived'] == 1)]['Survived'].count() / dropped_data[data['Parch'] != 0]['Survived'].count() * 100}%\")"
   ],
   "outputs": [],
   "metadata": {}
  },
  {
   "cell_type": "code",
   "execution_count": null,
   "source": [],
   "outputs": [],
   "metadata": {}
  }
 ],
 "metadata": {
  "kernelspec": {
   "display_name": "Python 3",
   "language": "python",
   "name": "python3"
  },
  "language_info": {
   "codemirror_mode": {
    "name": "ipython",
    "version": 3
   },
   "file_extension": ".py",
   "mimetype": "text/x-python",
   "name": "python",
   "nbconvert_exporter": "python",
   "pygments_lexer": "ipython3",
   "version": "3.8.3"
  }
 },
 "nbformat": 4,
 "nbformat_minor": 5
}